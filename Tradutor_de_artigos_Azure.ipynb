{
  "nbformat": 4,
  "nbformat_minor": 0,
  "metadata": {
    "colab": {
      "provenance": []
    },
    "kernelspec": {
      "name": "python3",
      "display_name": "Python 3"
    },
    "language_info": {
      "name": "python"
    }
  },
  "cells": [
    {
      "cell_type": "markdown",
      "source": [
        "---\n",
        "## Desafio de projeto - Tradutor de artigos - Azure\n",
        "\n",
        "O conteúdo a seguir corresponde aos desafio de projeto que realizei durante o bootcamp Bootcamp Microsoft Certification Challenge #1 - AI 102, oferecido pela Dio.\n",
        "\n",
        "**Observação:**\n",
        "\n",
        "Alguns dados sensíveis foram retirados do código, portanto para que o tradutor de artigos funcione conforme o esperado, será necessário que você complete com suas próprias informações. Não se preocupe, os comentários no código te nortearão no processo!\n",
        "\n",
        "\n",
        "**Contatos:**\n",
        "\n",
        "*   [LinkedIn](https://www.linkedin.com/in/leonardor99/)\n",
        "*   [GitHub](https://github.com/ldemmz/)\n",
        "*   [E-mail](mailto:leonardor99@outlook.com)\n",
        "---\n"
      ],
      "metadata": {
        "id": "74GjB8hUe5w3"
      }
    },
    {
      "cell_type": "code",
      "execution_count": null,
      "metadata": {
        "collapsed": true,
        "id": "PeJluPVxah0t"
      },
      "outputs": [],
      "source": [
        "!pip install requests python-docx\n",
        "!pip install requests beautifulsoup4 openai langchain-openai\n",
        "import requests\n",
        "import os\n",
        "from docx import Document\n",
        "from bs4 import BeautifulSoup\n",
        "from langchain_openai.chat_models.azure import AzureChatOpenAI"
      ]
    },
    {
      "cell_type": "code",
      "source": [
        "## Dados sensíveis. Complete com as informações de seu serviço de tradução hospedado na Azure.\n",
        "subscription_key = \"\"\n",
        "endpoint = \"\"\n",
        "location = \"\"\n",
        "target_language = \"\"\n",
        "#######################\n",
        "\n",
        "# Função para tradução de texto\n",
        "def translator_text(text, target_language):\n",
        "  path = \"/translate\"\n",
        "  constructed_url = endpoint + path\n",
        "\n",
        "  headers = {\n",
        "      \"Ocp-Apim-Subscription-Key\": subscription_key,\n",
        "      \"Ocp-Apim-Subscription-Region\": location,\n",
        "      \"Content-type\": \"application/json\",\n",
        "      \"X-ClientTraceId\": str(os.urandom(16))\n",
        "  }\n",
        "\n",
        "  body = [{\"text\": text}]\n",
        "\n",
        "  params = {\n",
        "      \"api-version\": \"3.0\",\n",
        "      \"from\": \"en\",\n",
        "      \"to\": [target_language]\n",
        "  }\n",
        "\n",
        "  request = requests.post(constructed_url, params=params, headers=headers, json=body)\n",
        "  response = request.json()\n",
        "  return response[0][\"translations\"][0][\"text\"]"
      ],
      "metadata": {
        "id": "caCores6bJZl"
      },
      "execution_count": null,
      "outputs": []
    },
    {
      "cell_type": "code",
      "source": [
        "# Faça o teste\n",
        "translator_text(\"One of the key impacts of effective corporate governance is the enhancement of transparency and accountability within organizations. Companies that adopt strong governance practices are better positioned to foster trust among investors, customers, and employees.\", target_language)"
      ],
      "metadata": {
        "id": "CnFn8wzGbcXN"
      },
      "execution_count": null,
      "outputs": []
    },
    {
      "cell_type": "code",
      "source": [
        "\n",
        "# Função para tradução de documento\n",
        "def translate_document(path):\n",
        "  document = Document(path)\n",
        "  full_text = []\n",
        "\n",
        "  for paragraph in document.paragraphs:\n",
        "    translated_text = translator_text(paragraph.text, target_language)\n",
        "    full_text.append(translated_text)\n",
        "\n",
        "  translated_document = Document()\n",
        "\n",
        "  for line in full_text:\n",
        "    translated_document.add_paragraph(line)\n",
        "\n",
        "  path_translated = path.replace(\".docx\", f\"_{target_language}.docx\")\n",
        "  translated_document.save(path_translated)\n",
        "\n",
        "  return path_translated\n",
        "\n",
        "input_file = \"\"  # Insira o caminho do arquivo desejado\n",
        "translate_document(input_file)"
      ],
      "metadata": {
        "id": "BefWYz4Bbg9V"
      },
      "execution_count": null,
      "outputs": []
    },
    {
      "cell_type": "code",
      "source": [
        "# Leitura do arquivo traduzido\n",
        "def read_translated_document(path):\n",
        "  document = Document(path)\n",
        "\n",
        "  for paragraph in document.paragraphs:\n",
        "    print(paragraph.text)\n",
        "\n",
        "translated_file = \"\" # Insira o caminho do arquivo traduzido que fora criado\n",
        "#Teste\n",
        "read_translated_document(translated_file)"
      ],
      "metadata": {
        "id": "-aNgGd6Fb9ft"
      },
      "execution_count": null,
      "outputs": []
    },
    {
      "cell_type": "code",
      "source": [
        "# Webscrapping com limpeza de texto\n",
        "def extract_text_from_url(url):\n",
        "  response = requests.get(url)\n",
        "\n",
        "  if response.status_code == 200:\n",
        "    soup = BeautifulSoup(response.text, \"html.parser\")\n",
        "    for script_or_style in soup([\"script\",\"style\"]):\n",
        "      script_or_style.decompose()\n",
        "    text = soup.get_text(separator = \" \")\n",
        "    lines = (line.strip() for line in text.splitlines())\n",
        "    parts = (phrase.strip() for line in lines for phrase in line.split(\"  \"))\n",
        "    cleaned_text = '\\n'.join(part for part in parts if part)\n",
        "    return cleaned_text\n",
        "  else:\n",
        "    print(f\"Failed to fetch the URL. Status code: {response.status_code}\")\n",
        "    return None\n",
        "\n",
        "extract_text_from_url(\" \") # Insira a url desejada"
      ],
      "metadata": {
        "id": "mwJyf1FVcU7m"
      },
      "execution_count": null,
      "outputs": []
    },
    {
      "cell_type": "code",
      "source": [
        "## Dados sensíveis OpenAI Azure. Você precisa completar com as informações de seu serviço assinado.\n",
        "client = AzureChatOpenAI(\n",
        "    azure_endpoint = \"\",\n",
        "    api_key = \"\",\n",
        "    api_version = \"\",\n",
        "    deployment_name = \"\",\n",
        "    max_retries=0\n",
        ")\n",
        "###########################\n",
        "\n",
        "# Função para tradução de artigos e conversão em markdown\n",
        "def translate_article(text, lang):\n",
        "  messages = [\n",
        "      (\"system\", \"Você atua como tradutor de textos\"),\n",
        "      (\"user\", f\"Traduza o {text} para o idioma {lang} e responda em markdown\")\n",
        "  ]\n",
        "\n",
        "  response = client.invoke(messages)\n",
        "  return response.content"
      ],
      "metadata": {
        "id": "7gLxinKVcqoW"
      },
      "execution_count": null,
      "outputs": []
    },
    {
      "cell_type": "code",
      "source": [
        "# Testes de tradução\n",
        "\n",
        "translate_article(\"Now it’s time to write some code. Open up your project in Visual Studio Code and create a couple of data structure classes: IrisData.cs and IrisPrediction.cs.\", \"pt-br\")\n",
        "\n",
        "url = \"\" # Insira a url desejada para testar\n",
        "text = extract_text_from_url(url)\n",
        "article = translate_article(text,\"pt-br\")\n",
        "\n",
        "print(article)\n"
      ],
      "metadata": {
        "id": "O-te4agydkbn"
      },
      "execution_count": null,
      "outputs": []
    }
  ]
}